{
 "cells": [
  {
   "cell_type": "code",
   "execution_count": 1,
   "id": "5a609a35",
   "metadata": {},
   "outputs": [],
   "source": [
    "import numpy as np\n",
    "import pandas as pd\n",
    "import matplotlib.pyplot as plt\n",
    "import pandas_datareader as data"
   ]
  },
  {
   "cell_type": "code",
   "execution_count": 2,
   "id": "930b8b13",
   "metadata": {},
   "outputs": [
    {
     "ename": "NameError",
     "evalue": "name 'date' is not defined",
     "output_type": "error",
     "traceback": [
      "\u001b[1;31m---------------------------------------------------------------------------\u001b[0m",
      "\u001b[1;31mNameError\u001b[0m                                 Traceback (most recent call last)",
      "\u001b[1;32m~\\AppData\\Local\\Temp/ipykernel_4280/2830354081.py\u001b[0m in \u001b[0;36m<module>\u001b[1;34m\u001b[0m\n\u001b[0;32m      1\u001b[0m \u001b[0mstart\u001b[0m \u001b[1;33m=\u001b[0m \u001b[1;34m'2010-01-01'\u001b[0m\u001b[1;33m\u001b[0m\u001b[1;33m\u001b[0m\u001b[0m\n\u001b[1;32m----> 2\u001b[1;33m \u001b[0mend\u001b[0m \u001b[1;33m=\u001b[0m \u001b[0mdate\u001b[0m\u001b[1;33m.\u001b[0m\u001b[0mtoday\u001b[0m\u001b[1;33m(\u001b[0m\u001b[1;33m)\u001b[0m\u001b[1;33m.\u001b[0m\u001b[0mstrftime\u001b[0m\u001b[1;33m(\u001b[0m\u001b[1;34m\"%Y-%m-%d\"\u001b[0m\u001b[1;33m)\u001b[0m\u001b[1;33m\u001b[0m\u001b[1;33m\u001b[0m\u001b[0m\n\u001b[0m\u001b[0;32m      3\u001b[0m \u001b[1;33m\u001b[0m\u001b[0m\n\u001b[0;32m      4\u001b[0m \u001b[0mdf\u001b[0m \u001b[1;33m=\u001b[0m \u001b[0mdata\u001b[0m\u001b[1;33m.\u001b[0m\u001b[0mDataReader\u001b[0m\u001b[1;33m(\u001b[0m\u001b[1;34m'RUCHI.NS'\u001b[0m\u001b[1;33m,\u001b[0m\u001b[1;34m'yahoo'\u001b[0m\u001b[1;33m,\u001b[0m\u001b[0mstart\u001b[0m\u001b[1;33m,\u001b[0m\u001b[0mend\u001b[0m\u001b[1;33m)\u001b[0m\u001b[1;33m\u001b[0m\u001b[1;33m\u001b[0m\u001b[0m\n\u001b[0;32m      5\u001b[0m \u001b[0mdf\u001b[0m\u001b[1;33m.\u001b[0m\u001b[0mhead\u001b[0m\u001b[1;33m(\u001b[0m\u001b[1;33m)\u001b[0m\u001b[1;33m\u001b[0m\u001b[1;33m\u001b[0m\u001b[0m\n",
      "\u001b[1;31mNameError\u001b[0m: name 'date' is not defined"
     ]
    }
   ],
   "source": [
    "start = '2010-01-01'\n",
    "end = date.today().strftime(\"%Y-%m-%d\")\n",
    "\n",
    "df = data.DataReader('RUCHI.NS','yahoo',start,end)\n",
    "df.head()"
   ]
  },
  {
   "cell_type": "code",
   "execution_count": 4,
   "id": "4b9b4c56",
   "metadata": {},
   "outputs": [
    {
     "data": {
      "text/html": [
       "<div>\n",
       "<style scoped>\n",
       "    .dataframe tbody tr th:only-of-type {\n",
       "        vertical-align: middle;\n",
       "    }\n",
       "\n",
       "    .dataframe tbody tr th {\n",
       "        vertical-align: top;\n",
       "    }\n",
       "\n",
       "    .dataframe thead th {\n",
       "        text-align: right;\n",
       "    }\n",
       "</style>\n",
       "<table border=\"1\" class=\"dataframe\">\n",
       "  <thead>\n",
       "    <tr style=\"text-align: right;\">\n",
       "      <th></th>\n",
       "      <th>High</th>\n",
       "      <th>Low</th>\n",
       "      <th>Open</th>\n",
       "      <th>Close</th>\n",
       "      <th>Volume</th>\n",
       "      <th>Adj Close</th>\n",
       "    </tr>\n",
       "    <tr>\n",
       "      <th>Date</th>\n",
       "      <th></th>\n",
       "      <th></th>\n",
       "      <th></th>\n",
       "      <th></th>\n",
       "      <th></th>\n",
       "      <th></th>\n",
       "    </tr>\n",
       "  </thead>\n",
       "  <tbody>\n",
       "    <tr>\n",
       "      <th>2022-04-05</th>\n",
       "      <td>932.400024</td>\n",
       "      <td>866.849976</td>\n",
       "      <td>930.0</td>\n",
       "      <td>875.400024</td>\n",
       "      <td>2479616.0</td>\n",
       "      <td>875.400024</td>\n",
       "    </tr>\n",
       "    <tr>\n",
       "      <th>2022-04-06</th>\n",
       "      <td>815.000000</td>\n",
       "      <td>714.500000</td>\n",
       "      <td>714.5</td>\n",
       "      <td>755.250000</td>\n",
       "      <td>13181107.0</td>\n",
       "      <td>755.250000</td>\n",
       "    </tr>\n",
       "    <tr>\n",
       "      <th>2022-04-07</th>\n",
       "      <td>839.900024</td>\n",
       "      <td>770.000000</td>\n",
       "      <td>770.0</td>\n",
       "      <td>817.700012</td>\n",
       "      <td>12081878.0</td>\n",
       "      <td>817.700012</td>\n",
       "    </tr>\n",
       "    <tr>\n",
       "      <th>2022-04-08</th>\n",
       "      <td>938.700012</td>\n",
       "      <td>825.750000</td>\n",
       "      <td>855.0</td>\n",
       "      <td>923.450012</td>\n",
       "      <td>40371923.0</td>\n",
       "      <td>923.450012</td>\n",
       "    </tr>\n",
       "    <tr>\n",
       "      <th>2022-04-11</th>\n",
       "      <td>969.000000</td>\n",
       "      <td>969.000000</td>\n",
       "      <td>969.0</td>\n",
       "      <td>969.000000</td>\n",
       "      <td>40372023.0</td>\n",
       "      <td>969.000000</td>\n",
       "    </tr>\n",
       "  </tbody>\n",
       "</table>\n",
       "</div>"
      ],
      "text/plain": [
       "                  High         Low   Open       Close      Volume   Adj Close\n",
       "Date                                                                         \n",
       "2022-04-05  932.400024  866.849976  930.0  875.400024   2479616.0  875.400024\n",
       "2022-04-06  815.000000  714.500000  714.5  755.250000  13181107.0  755.250000\n",
       "2022-04-07  839.900024  770.000000  770.0  817.700012  12081878.0  817.700012\n",
       "2022-04-08  938.700012  825.750000  855.0  923.450012  40371923.0  923.450012\n",
       "2022-04-11  969.000000  969.000000  969.0  969.000000  40372023.0  969.000000"
      ]
     },
     "execution_count": 4,
     "metadata": {},
     "output_type": "execute_result"
    }
   ],
   "source": [
    "df.tail()"
   ]
  },
  {
   "cell_type": "code",
   "execution_count": 5,
   "id": "030ae19b",
   "metadata": {},
   "outputs": [
    {
     "data": {
      "text/html": [
       "<div>\n",
       "<style scoped>\n",
       "    .dataframe tbody tr th:only-of-type {\n",
       "        vertical-align: middle;\n",
       "    }\n",
       "\n",
       "    .dataframe tbody tr th {\n",
       "        vertical-align: top;\n",
       "    }\n",
       "\n",
       "    .dataframe thead th {\n",
       "        text-align: right;\n",
       "    }\n",
       "</style>\n",
       "<table border=\"1\" class=\"dataframe\">\n",
       "  <thead>\n",
       "    <tr style=\"text-align: right;\">\n",
       "      <th></th>\n",
       "      <th>Date</th>\n",
       "      <th>High</th>\n",
       "      <th>Low</th>\n",
       "      <th>Open</th>\n",
       "      <th>Close</th>\n",
       "      <th>Volume</th>\n",
       "      <th>Adj Close</th>\n",
       "    </tr>\n",
       "  </thead>\n",
       "  <tbody>\n",
       "    <tr>\n",
       "      <th>0</th>\n",
       "      <td>2010-01-04</td>\n",
       "      <td>9370.0</td>\n",
       "      <td>8935.0</td>\n",
       "      <td>9370.0</td>\n",
       "      <td>9005.0</td>\n",
       "      <td>8051.0</td>\n",
       "      <td>8725.292969</td>\n",
       "    </tr>\n",
       "    <tr>\n",
       "      <th>1</th>\n",
       "      <td>2010-01-05</td>\n",
       "      <td>9210.0</td>\n",
       "      <td>8885.0</td>\n",
       "      <td>9005.0</td>\n",
       "      <td>8915.0</td>\n",
       "      <td>11448.0</td>\n",
       "      <td>8638.088867</td>\n",
       "    </tr>\n",
       "    <tr>\n",
       "      <th>2</th>\n",
       "      <td>2010-01-06</td>\n",
       "      <td>9545.0</td>\n",
       "      <td>8880.0</td>\n",
       "      <td>8990.0</td>\n",
       "      <td>9440.0</td>\n",
       "      <td>41703.0</td>\n",
       "      <td>9146.783203</td>\n",
       "    </tr>\n",
       "    <tr>\n",
       "      <th>3</th>\n",
       "      <td>2010-01-07</td>\n",
       "      <td>9670.0</td>\n",
       "      <td>9340.0</td>\n",
       "      <td>9600.0</td>\n",
       "      <td>9445.0</td>\n",
       "      <td>23390.0</td>\n",
       "      <td>9151.625977</td>\n",
       "    </tr>\n",
       "    <tr>\n",
       "      <th>4</th>\n",
       "      <td>2010-01-08</td>\n",
       "      <td>9530.0</td>\n",
       "      <td>9300.0</td>\n",
       "      <td>9530.0</td>\n",
       "      <td>9370.0</td>\n",
       "      <td>5945.0</td>\n",
       "      <td>9078.956055</td>\n",
       "    </tr>\n",
       "  </tbody>\n",
       "</table>\n",
       "</div>"
      ],
      "text/plain": [
       "        Date    High     Low    Open   Close   Volume    Adj Close\n",
       "0 2010-01-04  9370.0  8935.0  9370.0  9005.0   8051.0  8725.292969\n",
       "1 2010-01-05  9210.0  8885.0  9005.0  8915.0  11448.0  8638.088867\n",
       "2 2010-01-06  9545.0  8880.0  8990.0  9440.0  41703.0  9146.783203\n",
       "3 2010-01-07  9670.0  9340.0  9600.0  9445.0  23390.0  9151.625977\n",
       "4 2010-01-08  9530.0  9300.0  9530.0  9370.0   5945.0  9078.956055"
      ]
     },
     "execution_count": 5,
     "metadata": {},
     "output_type": "execute_result"
    }
   ],
   "source": [
    "df = df.reset_index()\n",
    "df.head()"
   ]
  },
  {
   "cell_type": "code",
   "execution_count": 6,
   "id": "0a8d63ad",
   "metadata": {},
   "outputs": [
    {
     "data": {
      "text/html": [
       "<div>\n",
       "<style scoped>\n",
       "    .dataframe tbody tr th:only-of-type {\n",
       "        vertical-align: middle;\n",
       "    }\n",
       "\n",
       "    .dataframe tbody tr th {\n",
       "        vertical-align: top;\n",
       "    }\n",
       "\n",
       "    .dataframe thead th {\n",
       "        text-align: right;\n",
       "    }\n",
       "</style>\n",
       "<table border=\"1\" class=\"dataframe\">\n",
       "  <thead>\n",
       "    <tr style=\"text-align: right;\">\n",
       "      <th></th>\n",
       "      <th>High</th>\n",
       "      <th>Low</th>\n",
       "      <th>Open</th>\n",
       "      <th>Close</th>\n",
       "      <th>Volume</th>\n",
       "    </tr>\n",
       "  </thead>\n",
       "  <tbody>\n",
       "    <tr>\n",
       "      <th>0</th>\n",
       "      <td>9370.0</td>\n",
       "      <td>8935.0</td>\n",
       "      <td>9370.0</td>\n",
       "      <td>9005.0</td>\n",
       "      <td>8051.0</td>\n",
       "    </tr>\n",
       "    <tr>\n",
       "      <th>1</th>\n",
       "      <td>9210.0</td>\n",
       "      <td>8885.0</td>\n",
       "      <td>9005.0</td>\n",
       "      <td>8915.0</td>\n",
       "      <td>11448.0</td>\n",
       "    </tr>\n",
       "    <tr>\n",
       "      <th>2</th>\n",
       "      <td>9545.0</td>\n",
       "      <td>8880.0</td>\n",
       "      <td>8990.0</td>\n",
       "      <td>9440.0</td>\n",
       "      <td>41703.0</td>\n",
       "    </tr>\n",
       "    <tr>\n",
       "      <th>3</th>\n",
       "      <td>9670.0</td>\n",
       "      <td>9340.0</td>\n",
       "      <td>9600.0</td>\n",
       "      <td>9445.0</td>\n",
       "      <td>23390.0</td>\n",
       "    </tr>\n",
       "    <tr>\n",
       "      <th>4</th>\n",
       "      <td>9530.0</td>\n",
       "      <td>9300.0</td>\n",
       "      <td>9530.0</td>\n",
       "      <td>9370.0</td>\n",
       "      <td>5945.0</td>\n",
       "    </tr>\n",
       "  </tbody>\n",
       "</table>\n",
       "</div>"
      ],
      "text/plain": [
       "     High     Low    Open   Close   Volume\n",
       "0  9370.0  8935.0  9370.0  9005.0   8051.0\n",
       "1  9210.0  8885.0  9005.0  8915.0  11448.0\n",
       "2  9545.0  8880.0  8990.0  9440.0  41703.0\n",
       "3  9670.0  9340.0  9600.0  9445.0  23390.0\n",
       "4  9530.0  9300.0  9530.0  9370.0   5945.0"
      ]
     },
     "execution_count": 6,
     "metadata": {},
     "output_type": "execute_result"
    }
   ],
   "source": [
    "df = df.drop(['Date','Adj Close'], axis = 1)\n",
    "df.head()"
   ]
  },
  {
   "cell_type": "code",
   "execution_count": 7,
   "id": "dbc6f2ff",
   "metadata": {},
   "outputs": [
    {
     "data": {
      "text/plain": [
       "[<matplotlib.lines.Line2D at 0x175b843c250>]"
      ]
     },
     "execution_count": 7,
     "metadata": {},
     "output_type": "execute_result"
    },
    {
     "data": {
      "image/png": "[encoded data removed]",
      "text/plain": [
       "<Figure size 432x288 with 1 Axes>"
      ]
     },
     "metadata": {
      "needs_background": "light"
     },
     "output_type": "display_data"
    }
   ],
   "source": [
    "plt.plot(df.Close)"
   ]
  },
  {
   "cell_type": "code",
   "execution_count": 8,
   "id": "65d387d0",
   "metadata": {},
   "outputs": [
    {
     "data": {
      "text/html": [
       "<div>\n",
       "<style scoped>\n",
       "    .dataframe tbody tr th:only-of-type {\n",
       "        vertical-align: middle;\n",
       "    }\n",
       "\n",
       "    .dataframe tbody tr th {\n",
       "        vertical-align: top;\n",
       "    }\n",
       "\n",
       "    .dataframe thead th {\n",
       "        text-align: right;\n",
       "    }\n",
       "</style>\n",
       "<table border=\"1\" class=\"dataframe\">\n",
       "  <thead>\n",
       "    <tr style=\"text-align: right;\">\n",
       "      <th></th>\n",
       "      <th>High</th>\n",
       "      <th>Low</th>\n",
       "      <th>Open</th>\n",
       "      <th>Close</th>\n",
       "      <th>Volume</th>\n",
       "    </tr>\n",
       "  </thead>\n",
       "  <tbody>\n",
       "    <tr>\n",
       "      <th>0</th>\n",
       "      <td>9370.000000</td>\n",
       "      <td>8935.000000</td>\n",
       "      <td>9370.0</td>\n",
       "      <td>9005.000000</td>\n",
       "      <td>8051.0</td>\n",
       "    </tr>\n",
       "    <tr>\n",
       "      <th>1</th>\n",
       "      <td>9210.000000</td>\n",
       "      <td>8885.000000</td>\n",
       "      <td>9005.0</td>\n",
       "      <td>8915.000000</td>\n",
       "      <td>11448.0</td>\n",
       "    </tr>\n",
       "    <tr>\n",
       "      <th>2</th>\n",
       "      <td>9545.000000</td>\n",
       "      <td>8880.000000</td>\n",
       "      <td>8990.0</td>\n",
       "      <td>9440.000000</td>\n",
       "      <td>41703.0</td>\n",
       "    </tr>\n",
       "    <tr>\n",
       "      <th>3</th>\n",
       "      <td>9670.000000</td>\n",
       "      <td>9340.000000</td>\n",
       "      <td>9600.0</td>\n",
       "      <td>9445.000000</td>\n",
       "      <td>23390.0</td>\n",
       "    </tr>\n",
       "    <tr>\n",
       "      <th>4</th>\n",
       "      <td>9530.000000</td>\n",
       "      <td>9300.000000</td>\n",
       "      <td>9530.0</td>\n",
       "      <td>9370.000000</td>\n",
       "      <td>5945.0</td>\n",
       "    </tr>\n",
       "    <tr>\n",
       "      <th>...</th>\n",
       "      <td>...</td>\n",
       "      <td>...</td>\n",
       "      <td>...</td>\n",
       "      <td>...</td>\n",
       "      <td>...</td>\n",
       "    </tr>\n",
       "    <tr>\n",
       "      <th>3024</th>\n",
       "      <td>932.400024</td>\n",
       "      <td>866.849976</td>\n",
       "      <td>930.0</td>\n",
       "      <td>875.400024</td>\n",
       "      <td>2479616.0</td>\n",
       "    </tr>\n",
       "    <tr>\n",
       "      <th>3025</th>\n",
       "      <td>815.000000</td>\n",
       "      <td>714.500000</td>\n",
       "      <td>714.5</td>\n",
       "      <td>755.250000</td>\n",
       "      <td>13181107.0</td>\n",
       "    </tr>\n",
       "    <tr>\n",
       "      <th>3026</th>\n",
       "      <td>839.900024</td>\n",
       "      <td>770.000000</td>\n",
       "      <td>770.0</td>\n",
       "      <td>817.700012</td>\n",
       "      <td>12081878.0</td>\n",
       "    </tr>\n",
       "    <tr>\n",
       "      <th>3027</th>\n",
       "      <td>938.700012</td>\n",
       "      <td>825.750000</td>\n",
       "      <td>855.0</td>\n",
       "      <td>923.450012</td>\n",
       "      <td>40371923.0</td>\n",
       "    </tr>\n",
       "    <tr>\n",
       "      <th>3028</th>\n",
       "      <td>969.000000</td>\n",
       "      <td>969.000000</td>\n",
       "      <td>969.0</td>\n",
       "      <td>969.000000</td>\n",
       "      <td>40372023.0</td>\n",
       "    </tr>\n",
       "  </tbody>\n",
       "</table>\n",
       "<p>3029 rows × 5 columns</p>\n",
       "</div>"
      ],
      "text/plain": [
       "             High          Low    Open        Close      Volume\n",
       "0     9370.000000  8935.000000  9370.0  9005.000000      8051.0\n",
       "1     9210.000000  8885.000000  9005.0  8915.000000     11448.0\n",
       "2     9545.000000  8880.000000  8990.0  9440.000000     41703.0\n",
       "3     9670.000000  9340.000000  9600.0  9445.000000     23390.0\n",
       "4     9530.000000  9300.000000  9530.0  9370.000000      5945.0\n",
       "...           ...          ...     ...          ...         ...\n",
       "3024   932.400024   866.849976   930.0   875.400024   2479616.0\n",
       "3025   815.000000   714.500000   714.5   755.250000  13181107.0\n",
       "3026   839.900024   770.000000   770.0   817.700012  12081878.0\n",
       "3027   938.700012   825.750000   855.0   923.450012  40371923.0\n",
       "3028   969.000000   969.000000   969.0   969.000000  40372023.0\n",
       "\n",
       "[3029 rows x 5 columns]"
      ]
     },
     "execution_count": 8,
     "metadata": {},
     "output_type": "execute_result"
    }
   ],
   "source": [
    "df"
   ]
  },
  {
   "cell_type": "code",
   "execution_count": 9,
   "id": "321262f7",
   "metadata": {},
   "outputs": [
    {
     "data": {
      "text/plain": [
       "0            NaN\n",
       "1            NaN\n",
       "2            NaN\n",
       "3            NaN\n",
       "4            NaN\n",
       "          ...   \n",
       "3024    882.7540\n",
       "3025    880.0440\n",
       "3026    878.1515\n",
       "3027    877.5960\n",
       "3028    877.1060\n",
       "Name: Close, Length: 3029, dtype: float64"
      ]
     },
     "execution_count": 9,
     "metadata": {},
     "output_type": "execute_result"
    }
   ],
   "source": [
    "ma100 = df.Close.rolling(100).mean()\n",
    "ma100"
   ]
  },
  {
   "cell_type": "code",
   "execution_count": 10,
   "id": "e97771d4",
   "metadata": {},
   "outputs": [
    {
     "data": {
      "text/plain": [
       "[<matplotlib.lines.Line2D at 0x175b806c0d0>]"
      ]
     },
     "execution_count": 10,
     "metadata": {},
     "output_type": "execute_result"
    },
    {
     "data": {
      "image/png": "[encoded data removed]",
      "text/plain": [
       "<Figure size 864x432 with 1 Axes>"
      ]
     },
     "metadata": {
      "needs_background": "light"
     },
     "output_type": "display_data"
    }
   ],
   "source": [
    "plt.figure(figsize = (12,6))\n",
    "plt.plot(df.Close)\n",
    "plt.plot(ma100,'r')"
   ]
  },
  {
   "cell_type": "code",
   "execution_count": 11,
   "id": "1981cc44",
   "metadata": {},
   "outputs": [
    {
     "data": {
      "text/plain": [
       "0              NaN\n",
       "1              NaN\n",
       "2              NaN\n",
       "3              NaN\n",
       "4              NaN\n",
       "           ...    \n",
       "3024    975.400500\n",
       "3025    973.129250\n",
       "3026    971.192750\n",
       "3027    969.889749\n",
       "3028    968.836999\n",
       "Name: Close, Length: 3029, dtype: float64"
      ]
     },
     "execution_count": 11,
     "metadata": {},
     "output_type": "execute_result"
    }
   ],
   "source": [
    "ma200 = df.Close.rolling(200).mean()\n",
    "ma200"
   ]
  },
  {
   "cell_type": "code",
   "execution_count": 12,
   "id": "3384fc5f",
   "metadata": {},
   "outputs": [
    {
     "data": {
      "text/plain": [
       "[<matplotlib.lines.Line2D at 0x175b80e5940>]"
      ]
     },
     "execution_count": 12,
     "metadata": {},
     "output_type": "execute_result"
    },
    {
     "data": {
      "image/png": "[encoded data removed]",
      "text/plain": [
       "<Figure size 864x432 with 1 Axes>"
      ]
     },
     "metadata": {
      "needs_background": "light"
     },
     "output_type": "display_data"
    }
   ],
   "source": [
    "plt.figure(figsize = (12,6))\n",
    "plt.plot(df.Close)\n",
    "plt.plot(ma100,'r')\n",
    "plt.plot(ma200,'g')"
   ]
  },
  {
   "cell_type": "code",
   "execution_count": 13,
   "id": "3b581d1e",
   "metadata": {},
   "outputs": [
    {
     "data": {
      "text/plain": [
       "(3029, 5)"
      ]
     },
     "execution_count": 13,
     "metadata": {},
     "output_type": "execute_result"
    }
   ],
   "source": [
    "df.shape"
   ]
  },
  {
   "cell_type": "code",
   "execution_count": 14,
   "id": "d883ff52",
   "metadata": {},
   "outputs": [
    {
     "name": "stdout",
     "output_type": "stream",
     "text": [
      "(2120, 1)\n",
      "(909, 1)\n"
     ]
    }
   ],
   "source": [
    "#Split Data into Training and Testing\n",
    "data_training = pd.DataFrame(df['Close'][0:int(len(df)*0.70)])\n",
    "data_testing = pd.DataFrame(df['Close'][int(len(df)*0.70):int(len(df))])\n",
    "print(data_training.shape)\n",
    "print(data_testing.shape)"
   ]
  },
  {
   "cell_type": "code",
   "execution_count": 15,
   "id": "6d2e88fa",
   "metadata": {},
   "outputs": [],
   "source": [
    "from sklearn.preprocessing import MinMaxScaler\n",
    "scaler = MinMaxScaler(feature_range=(0,1))"
   ]
  },
  {
   "cell_type": "code",
   "execution_count": 16,
   "id": "e8cd64b1",
   "metadata": {},
   "outputs": [
    {
     "data": {
      "text/plain": [
       "array([[0.61436673],\n",
       "       [0.60756144],\n",
       "       [0.64725898],\n",
       "       ...,\n",
       "       [0.00642722],\n",
       "       [0.00907372],\n",
       "       [0.00529301]])"
      ]
     },
     "execution_count": 16,
     "metadata": {},
     "output_type": "execute_result"
    }
   ],
   "source": [
    "data_training_array = scaler.fit_transform(data_training)\n",
    "data_training_array"
   ]
  },
  {
   "cell_type": "code",
   "execution_count": 17,
   "id": "d6f7e746",
   "metadata": {},
   "outputs": [],
   "source": [
    "x_train = []\n",
    "y_train = []\n",
    "\n",
    "for i in range(100, data_training_array.shape[0]):\n",
    "    x_train.append(data_training_array[i-100:i])\n",
    "    y_train.append(data_training_array[i,0])\n",
    "\n",
    "x_train,y_train = np.array(x_train), np.array(y_train)"
   ]
  },
  {
   "cell_type": "code",
   "execution_count": 18,
   "id": "ca20f105",
   "metadata": {},
   "outputs": [
    {
     "data": {
      "text/plain": [
       "(2020, 100, 1)"
      ]
     },
     "execution_count": 18,
     "metadata": {},
     "output_type": "execute_result"
    }
   ],
   "source": [
    "x_train.shape"
   ]
  },
  {
   "cell_type": "code",
   "execution_count": 19,
   "id": "75137e52",
   "metadata": {},
   "outputs": [],
   "source": [
    "# ML Model"
   ]
  },
  {
   "cell_type": "code",
   "execution_count": 20,
   "id": "0fbf7c8e",
   "metadata": {},
   "outputs": [],
   "source": [
    "from keras.layers import Dense, Dropout, LSTM\n",
    "from keras.models import Sequential"
   ]
  },
  {
   "cell_type": "code",
   "execution_count": 21,
   "id": "d648db4d",
   "metadata": {},
   "outputs": [],
   "source": [
    "model = Sequential()\n",
    "model.add(LSTM(units = 50, activation = 'relu', return_sequences = True, input_shape = (x_train.shape[1],1)))\n",
    "model.add(Dropout(0.2))\n",
    "\n",
    "model.add(LSTM(units = 60, activation = 'relu', return_sequences = True))\n",
    "model.add(Dropout(0.3))\n",
    "\n",
    "model.add(LSTM(units = 80, activation = 'relu', return_sequences = True))\n",
    "model.add(Dropout(0.4))\n",
    "\n",
    "model.add(LSTM(units = 120, activation = 'relu'))\n",
    "model.add(Dropout(0.5))\n",
    "\n",
    "model.add(Dense(units = 1))\n"
   ]
  },
  {
   "cell_type": "code",
   "execution_count": 22,
   "id": "9fdb4e92",
   "metadata": {},
   "outputs": [
    {
     "name": "stdout",
     "output_type": "stream",
     "text": [
      "Model: \"sequential\"\n",
      "_________________________________________________________________\n",
      " Layer (type)                Output Shape              Param #   \n",
      "=================================================================\n",
      " lstm (LSTM)                 (None, 100, 50)           10400     \n",
      "                                                                 \n",
      " dropout (Dropout)           (None, 100, 50)           0         \n",
      "                                                                 \n",
      " lstm_1 (LSTM)               (None, 100, 60)           26640     \n",
      "                                                                 \n",
      " dropout_1 (Dropout)         (None, 100, 60)           0         \n",
      "                                                                 \n",
      " lstm_2 (LSTM)               (None, 100, 80)           45120     \n",
      "                                                                 \n",
      " dropout_2 (Dropout)         (None, 100, 80)           0         \n",
      "                                                                 \n",
      " lstm_3 (LSTM)               (None, 120)               96480     \n",
      "                                                                 \n",
      " dropout_3 (Dropout)         (None, 120)               0         \n",
      "                                                                 \n",
      " dense (Dense)               (None, 1)                 121       \n",
      "                                                                 \n",
      "=================================================================\n",
      "Total params: 178,761\n",
      "Trainable params: 178,761\n",
      "Non-trainable params: 0\n",
      "_________________________________________________________________\n"
     ]
    }
   ],
   "source": [
    "model.summary()"
   ]
  },
  {
   "cell_type": "code",
   "execution_count": 23,
   "id": "2420b6d3",
   "metadata": {},
   "outputs": [
    {
     "name": "stdout",
     "output_type": "stream",
     "text": [
      "Epoch 1/50\n",
      "64/64 [==============================] - 17s 221ms/step - loss: 0.0342\n",
      "Epoch 2/50\n",
      "64/64 [==============================] - 13s 200ms/step - loss: 0.0075\n",
      "Epoch 3/50\n",
      "64/64 [==============================] - 13s 197ms/step - loss: 0.0063\n",
      "Epoch 4/50\n",
      "64/64 [==============================] - 12s 195ms/step - loss: 0.0056\n",
      "Epoch 5/50\n",
      "64/64 [==============================] - 13s 196ms/step - loss: 0.0049\n",
      "Epoch 6/50\n",
      "64/64 [==============================] - 13s 197ms/step - loss: 0.0050\n",
      "Epoch 7/50\n",
      "64/64 [==============================] - 12s 186ms/step - loss: 0.0055\n",
      "Epoch 8/50\n",
      "64/64 [==============================] - 12s 184ms/step - loss: 0.0051\n",
      "Epoch 9/50\n",
      "64/64 [==============================] - 12s 188ms/step - loss: 0.0052\n",
      "Epoch 10/50\n",
      "64/64 [==============================] - 13s 210ms/step - loss: 0.0048\n",
      "Epoch 11/50\n",
      "64/64 [==============================] - 12s 189ms/step - loss: 0.0040\n",
      "Epoch 12/50\n",
      "64/64 [==============================] - 12s 190ms/step - loss: 0.0039\n",
      "Epoch 13/50\n",
      "64/64 [==============================] - 12s 191ms/step - loss: 0.0039\n",
      "Epoch 14/50\n",
      "64/64 [==============================] - 12s 187ms/step - loss: 0.0037\n",
      "Epoch 15/50\n",
      "64/64 [==============================] - 12s 193ms/step - loss: 0.0040\n",
      "Epoch 16/50\n",
      "64/64 [==============================] - 12s 184ms/step - loss: 0.0035\n",
      "Epoch 17/50\n",
      "64/64 [==============================] - 12s 188ms/step - loss: 0.0034\n",
      "Epoch 18/50\n",
      "64/64 [==============================] - 12s 185ms/step - loss: 0.0033\n",
      "Epoch 19/50\n",
      "64/64 [==============================] - 12s 188ms/step - loss: 0.0036\n",
      "Epoch 20/50\n",
      "64/64 [==============================] - 12s 193ms/step - loss: 0.0030\n",
      "Epoch 21/50\n",
      "64/64 [==============================] - 12s 190ms/step - loss: 0.0032\n",
      "Epoch 22/50\n",
      "64/64 [==============================] - 12s 190ms/step - loss: 0.0033\n",
      "Epoch 23/50\n",
      "64/64 [==============================] - 12s 194ms/step - loss: 0.0031\n",
      "Epoch 24/50\n",
      "64/64 [==============================] - 12s 192ms/step - loss: 0.0031\n",
      "Epoch 25/50\n",
      "64/64 [==============================] - 12s 194ms/step - loss: 0.0034\n",
      "Epoch 26/50\n",
      "64/64 [==============================] - 13s 198ms/step - loss: 0.0029\n",
      "Epoch 27/50\n",
      "64/64 [==============================] - 12s 193ms/step - loss: 0.0028\n",
      "Epoch 28/50\n",
      "64/64 [==============================] - 12s 194ms/step - loss: 0.0027\n",
      "Epoch 29/50\n",
      "64/64 [==============================] - 13s 201ms/step - loss: 0.0028\n",
      "Epoch 30/50\n",
      "64/64 [==============================] - 13s 201ms/step - loss: 0.0027\n",
      "Epoch 31/50\n",
      "64/64 [==============================] - 13s 197ms/step - loss: 0.0025\n",
      "Epoch 32/50\n",
      "64/64 [==============================] - 13s 197ms/step - loss: 0.0031\n",
      "Epoch 33/50\n",
      "64/64 [==============================] - 13s 197ms/step - loss: 0.0028\n",
      "Epoch 34/50\n",
      "64/64 [==============================] - 12s 193ms/step - loss: 0.0023\n",
      "Epoch 35/50\n",
      "64/64 [==============================] - 13s 196ms/step - loss: 0.0026\n",
      "Epoch 36/50\n",
      "64/64 [==============================] - 13s 200ms/step - loss: 0.0025\n",
      "Epoch 37/50\n",
      "64/64 [==============================] - 13s 200ms/step - loss: 0.0024\n",
      "Epoch 38/50\n",
      "64/64 [==============================] - 13s 199ms/step - loss: 0.0025\n",
      "Epoch 39/50\n",
      "64/64 [==============================] - 13s 202ms/step - loss: 0.0030\n",
      "Epoch 40/50\n",
      "64/64 [==============================] - 13s 197ms/step - loss: 0.0027\n",
      "Epoch 41/50\n",
      "64/64 [==============================] - 12s 192ms/step - loss: 0.0025\n",
      "Epoch 42/50\n",
      "64/64 [==============================] - 12s 194ms/step - loss: 0.0024\n",
      "Epoch 43/50\n",
      "64/64 [==============================] - 13s 197ms/step - loss: 0.0026\n",
      "Epoch 44/50\n",
      "64/64 [==============================] - 13s 203ms/step - loss: 0.0028\n",
      "Epoch 45/50\n",
      "64/64 [==============================] - 13s 199ms/step - loss: 0.0023\n",
      "Epoch 46/50\n",
      "64/64 [==============================] - 12s 194ms/step - loss: 0.0025\n",
      "Epoch 47/50\n",
      "64/64 [==============================] - 13s 195ms/step - loss: 0.0026\n",
      "Epoch 48/50\n",
      "64/64 [==============================] - 13s 196ms/step - loss: 0.0024\n",
      "Epoch 49/50\n",
      "64/64 [==============================] - 13s 195ms/step - loss: 0.0022\n",
      "Epoch 50/50\n",
      "64/64 [==============================] - 12s 195ms/step - loss: 0.0026\n"
     ]
    },
    {
     "data": {
      "text/plain": [
       "<keras.callbacks.History at 0x175c1b16d00>"
      ]
     },
     "execution_count": 23,
     "metadata": {},
     "output_type": "execute_result"
    }
   ],
   "source": [
    "model.compile(optimizer = 'adam', loss = 'mean_squared_error')\n",
    "model.fit(x_train, y_train, epochs = 50)"
   ]
  },
  {
   "cell_type": "code",
   "execution_count": 24,
   "id": "b37a729e",
   "metadata": {},
   "outputs": [],
   "source": [
    "model.save('keras_model.h5')"
   ]
  },
  {
   "cell_type": "code",
   "execution_count": 25,
   "id": "7c50d4bc",
   "metadata": {},
   "outputs": [
    {
     "data": {
      "text/html": [
       "<div>\n",
       "<style scoped>\n",
       "    .dataframe tbody tr th:only-of-type {\n",
       "        vertical-align: middle;\n",
       "    }\n",
       "\n",
       "    .dataframe tbody tr th {\n",
       "        vertical-align: top;\n",
       "    }\n",
       "\n",
       "    .dataframe thead th {\n",
       "        text-align: right;\n",
       "    }\n",
       "</style>\n",
       "<table border=\"1\" class=\"dataframe\">\n",
       "  <thead>\n",
       "    <tr style=\"text-align: right;\">\n",
       "      <th></th>\n",
       "      <th>Close</th>\n",
       "    </tr>\n",
       "  </thead>\n",
       "  <tbody>\n",
       "    <tr>\n",
       "      <th>2120</th>\n",
       "      <td>905.0</td>\n",
       "    </tr>\n",
       "    <tr>\n",
       "      <th>2121</th>\n",
       "      <td>940.0</td>\n",
       "    </tr>\n",
       "    <tr>\n",
       "      <th>2122</th>\n",
       "      <td>935.0</td>\n",
       "    </tr>\n",
       "    <tr>\n",
       "      <th>2123</th>\n",
       "      <td>900.0</td>\n",
       "    </tr>\n",
       "    <tr>\n",
       "      <th>2124</th>\n",
       "      <td>905.0</td>\n",
       "    </tr>\n",
       "  </tbody>\n",
       "</table>\n",
       "</div>"
      ],
      "text/plain": [
       "      Close\n",
       "2120  905.0\n",
       "2121  940.0\n",
       "2122  935.0\n",
       "2123  900.0\n",
       "2124  905.0"
      ]
     },
     "execution_count": 25,
     "metadata": {},
     "output_type": "execute_result"
    }
   ],
   "source": [
    "data_testing.head()"
   ]
  },
  {
   "cell_type": "code",
   "execution_count": 26,
   "id": "0dd6a6f5",
   "metadata": {},
   "outputs": [],
   "source": [
    "past_100 = data_training.tail(100)"
   ]
  },
  {
   "cell_type": "code",
   "execution_count": 27,
   "id": "26325ef1",
   "metadata": {},
   "outputs": [],
   "source": [
    "final_df = past_100.append(data_testing, ignore_index = True)"
   ]
  },
  {
   "cell_type": "code",
   "execution_count": 28,
   "id": "f932d3a1",
   "metadata": {},
   "outputs": [],
   "source": [
    "input_data = scaler.fit_transform(final_df)"
   ]
  },
  {
   "cell_type": "code",
   "execution_count": 29,
   "id": "4837788b",
   "metadata": {},
   "outputs": [
    {
     "data": {
      "text/plain": [
       "(1009, 1)"
      ]
     },
     "execution_count": 29,
     "metadata": {},
     "output_type": "execute_result"
    }
   ],
   "source": [
    "input_data.shape"
   ]
  },
  {
   "cell_type": "code",
   "execution_count": 73,
   "id": "c7d3821e",
   "metadata": {},
   "outputs": [],
   "source": [
    "x_test = []\n",
    "y_test = []\n",
    "for i in range(100, input_data.shape[0]):\n",
    "    x_test.append(input_data[i-100:i])\n",
    "    y_test.append(input_data[i,0])"
   ]
  },
  {
   "cell_type": "code",
   "execution_count": 74,
   "id": "e456892c",
   "metadata": {},
   "outputs": [
    {
     "name": "stdout",
     "output_type": "stream",
     "text": [
      "(909, 100, 1)\n",
      "(909,)\n"
     ]
    }
   ],
   "source": [
    "x_test, y_test = np.array(x_test), np.array(y_test)\n",
    "print(x_test.shape)\n",
    "print(y_test.shape)"
   ]
  },
  {
   "cell_type": "code",
   "execution_count": 75,
   "id": "613a1aba",
   "metadata": {},
   "outputs": [],
   "source": [
    "import tensorflow as tf"
   ]
  },
  {
   "cell_type": "code",
   "execution_count": 76,
   "id": "cf6967b9",
   "metadata": {},
   "outputs": [],
   "source": [
    "# Make predictions\n",
    "\n",
    "y_predicted = model.predict(x_test)"
   ]
  },
  {
   "cell_type": "code",
   "execution_count": 77,
   "id": "886135d2",
   "metadata": {},
   "outputs": [],
   "source": [
    "scale = scaler.scale_"
   ]
  },
  {
   "cell_type": "code",
   "execution_count": 78,
   "id": "1f338859",
   "metadata": {},
   "outputs": [],
   "source": [
    "scale_factor = 1/scale[0]\n",
    "y_predicted = y_predicted * scale_factor\n",
    "y_test = y_test * scale_factor"
   ]
  },
  {
   "cell_type": "code",
   "execution_count": 79,
   "id": "3562391b",
   "metadata": {},
   "outputs": [
    {
     "data": {
      "image/png": "[encoded data removed]",
      "text/plain": [
       "<Figure size 864x432 with 1 Axes>"
      ]
     },
     "metadata": {
      "needs_background": "light"
     },
     "output_type": "display_data"
    }
   ],
   "source": [
    "plt.figure(figsize=(12,6))\n",
    "plt.plot(y_test,'b',label='Original Price')\n",
    "plt.plot(y_predicted,'r',label='Predicted Price')\n",
    "plt.xlabel('Time')\n",
    "plt.ylabel('Price')\n",
    "plt.legend()\n",
    "plt.show()"
   ]
  },
  {
   "cell_type": "code",
   "execution_count": null,
   "id": "079ef7a7",
   "metadata": {},
   "outputs": [],
   "source": []
  }
 ],
 "metadata": {
  "kernelspec": {
   "display_name": "Python 3 (ipykernel)",
   "language": "python",
   "name": "python3"
  },
  "language_info": {
   "codemirror_mode": {
    "name": "ipython",
    "version": 3
   },
   "file_extension": ".py",
   "mimetype": "text/x-python",
   "name": "python",
   "nbconvert_exporter": "python",
   "pygments_lexer": "ipython3",
   "version": "3.9.7"
  }
 },
 "nbformat": 4,
 "nbformat_minor": 5
}
