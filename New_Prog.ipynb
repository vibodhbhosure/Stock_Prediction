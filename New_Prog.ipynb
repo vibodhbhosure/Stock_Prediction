{
 "cells": [
  {
   "cell_type": "code",
   "execution_count": 1,
   "id": "f249257d",
   "metadata": {},
   "outputs": [],
   "source": [
    "import pandas_datareader as data\n",
    "import pandas as pd\n",
    "from datetime import datetime"
   ]
  },
  {
   "cell_type": "code",
   "execution_count": 2,
   "id": "837a0b82",
   "metadata": {},
   "outputs": [
    {
     "data": {
      "text/html": [
       "<div>\n",
       "<style scoped>\n",
       "    .dataframe tbody tr th:only-of-type {\n",
       "        vertical-align: middle;\n",
       "    }\n",
       "\n",
       "    .dataframe tbody tr th {\n",
       "        vertical-align: top;\n",
       "    }\n",
       "\n",
       "    .dataframe thead th {\n",
       "        text-align: right;\n",
       "    }\n",
       "</style>\n",
       "<table border=\"1\" class=\"dataframe\">\n",
       "  <thead>\n",
       "    <tr style=\"text-align: right;\">\n",
       "      <th></th>\n",
       "      <th>Date</th>\n",
       "      <th>High</th>\n",
       "      <th>Low</th>\n",
       "      <th>Open</th>\n",
       "      <th>Close</th>\n",
       "      <th>Volume</th>\n",
       "      <th>Adj Close</th>\n",
       "    </tr>\n",
       "  </thead>\n",
       "  <tbody>\n",
       "    <tr>\n",
       "      <th>2956</th>\n",
       "      <td>2021-12-27</td>\n",
       "      <td>460.500000</td>\n",
       "      <td>450.549988</td>\n",
       "      <td>453.700012</td>\n",
       "      <td>458.049988</td>\n",
       "      <td>8856482.0</td>\n",
       "      <td>458.049988</td>\n",
       "    </tr>\n",
       "    <tr>\n",
       "      <th>2957</th>\n",
       "      <td>2021-12-28</td>\n",
       "      <td>462.899994</td>\n",
       "      <td>459.049988</td>\n",
       "      <td>461.200012</td>\n",
       "      <td>461.200012</td>\n",
       "      <td>8832210.0</td>\n",
       "      <td>461.200012</td>\n",
       "    </tr>\n",
       "    <tr>\n",
       "      <th>2958</th>\n",
       "      <td>2021-12-29</td>\n",
       "      <td>462.149994</td>\n",
       "      <td>451.399994</td>\n",
       "      <td>461.000000</td>\n",
       "      <td>454.399994</td>\n",
       "      <td>11757303.0</td>\n",
       "      <td>454.399994</td>\n",
       "    </tr>\n",
       "    <tr>\n",
       "      <th>2959</th>\n",
       "      <td>2021-12-30</td>\n",
       "      <td>454.899994</td>\n",
       "      <td>448.500000</td>\n",
       "      <td>452.750000</td>\n",
       "      <td>451.700012</td>\n",
       "      <td>28879190.0</td>\n",
       "      <td>451.700012</td>\n",
       "    </tr>\n",
       "    <tr>\n",
       "      <th>2960</th>\n",
       "      <td>2021-12-31</td>\n",
       "      <td>461.399994</td>\n",
       "      <td>453.100006</td>\n",
       "      <td>454.250000</td>\n",
       "      <td>460.450012</td>\n",
       "      <td>10005842.0</td>\n",
       "      <td>460.450012</td>\n",
       "    </tr>\n",
       "  </tbody>\n",
       "</table>\n",
       "</div>"
      ],
      "text/plain": [
       "           Date        High         Low        Open       Close      Volume  \\\n",
       "2956 2021-12-27  460.500000  450.549988  453.700012  458.049988   8856482.0   \n",
       "2957 2021-12-28  462.899994  459.049988  461.200012  461.200012   8832210.0   \n",
       "2958 2021-12-29  462.149994  451.399994  461.000000  454.399994  11757303.0   \n",
       "2959 2021-12-30  454.899994  448.500000  452.750000  451.700012  28879190.0   \n",
       "2960 2021-12-31  461.399994  453.100006  454.250000  460.450012  10005842.0   \n",
       "\n",
       "       Adj Close  \n",
       "2956  458.049988  \n",
       "2957  461.200012  \n",
       "2958  454.399994  \n",
       "2959  451.700012  \n",
       "2960  460.450012  "
      ]
     },
     "execution_count": 2,
     "metadata": {},
     "output_type": "execute_result"
    }
   ],
   "source": [
    "start = '2010-01-01'\n",
    "end = '2022-01-01'\n",
    "#end = datetime.today().strftime(\"%Y-%m-%d\")\n",
    "\n",
    "df = data.DataReader('SBIN.NS','yahoo',start,end)\n",
    "df = df.reset_index()\n",
    "df.tail()"
   ]
  },
  {
   "cell_type": "code",
   "execution_count": 3,
   "id": "fa7b88d7",
   "metadata": {},
   "outputs": [],
   "source": [
    "#df.to_csv('stock.csv')\n",
    "#df = pd.read_csv('stock.csv')\n",
    "df1 = df.reset_index()['Close']"
   ]
  },
  {
   "cell_type": "code",
   "execution_count": 4,
   "id": "41f83b57",
   "metadata": {},
   "outputs": [],
   "source": [
    "import matplotlib.pyplot as plt"
   ]
  },
  {
   "cell_type": "code",
   "execution_count": 5,
   "id": "000ecef8",
   "metadata": {},
   "outputs": [
    {
     "data": {
      "text/plain": [
       "[<matplotlib.lines.Line2D at 0x2b8d869e700>]"
      ]
     },
     "execution_count": 5,
     "metadata": {},
     "output_type": "execute_result"
    },
    {
     "data": {
      "image/png": "[encoded data removed]",
      "text/plain": [
       "<Figure size 432x288 with 1 Axes>"
      ]
     },
     "metadata": {
      "needs_background": "light"
     },
     "output_type": "display_data"
    }
   ],
   "source": [
    "plt.plot(df1)"
   ]
  },
  {
   "cell_type": "code",
   "execution_count": 6,
   "id": "f3b08f13",
   "metadata": {},
   "outputs": [],
   "source": [
    "import numpy as np\n",
    "from sklearn.preprocessing import MinMaxScaler\n",
    "scaler = MinMaxScaler(feature_range=(0,1))\n",
    "df1 = scaler.fit_transform(np.array(df1).reshape(-1,1))"
   ]
  },
  {
   "cell_type": "code",
   "execution_count": 7,
   "id": "6382b30e",
   "metadata": {},
   "outputs": [],
   "source": [
    "train_data, test_data = df1[0:int(len(df1)*0.70),:], df1[int(len(df1)*0.70):len(df1),:1]"
   ]
  },
  {
   "cell_type": "code",
   "execution_count": 8,
   "id": "e7160fa4",
   "metadata": {},
   "outputs": [],
   "source": [
    "import numpy"
   ]
  },
  {
   "cell_type": "code",
   "execution_count": 9,
   "id": "14b420d0",
   "metadata": {},
   "outputs": [],
   "source": [
    "def create_dataset(dataset, time_step=1):\n",
    "    dataX,dataY = [], []\n",
    "    for i in range(len(dataset)-time_step-1):\n",
    "        a=dataset[i:(i+time_step), 0]\n",
    "        dataX.append(a)\n",
    "        dataY.append(dataset[i+time_step,0])\n",
    "    return numpy.array(dataX), numpy.array(dataY)"
   ]
  },
  {
   "cell_type": "code",
   "execution_count": 10,
   "id": "6a2168ae",
   "metadata": {},
   "outputs": [],
   "source": [
    "time_step=100\n",
    "x_train, y_train = create_dataset(train_data, time_step)\n",
    "x_test, y_test = create_dataset(test_data,time_step)"
   ]
  },
  {
   "cell_type": "code",
   "execution_count": 11,
   "id": "d239c0e4",
   "metadata": {},
   "outputs": [],
   "source": [
    "x_train = x_train.reshape(x_train.shape[0],x_train.shape[1],1)\n",
    "x_test = x_test.reshape(x_test.shape[0],x_test.shape[1],1)"
   ]
  },
  {
   "cell_type": "code",
   "execution_count": 12,
   "id": "a7c7206f",
   "metadata": {},
   "outputs": [],
   "source": [
    "from tensorflow.keras.models import Sequential\n",
    "from tensorflow.keras.layers import Dense\n",
    "from tensorflow.keras.layers import LSTM"
   ]
  },
  {
   "cell_type": "code",
   "execution_count": 13,
   "id": "6e1b89bc",
   "metadata": {},
   "outputs": [],
   "source": [
    "model = Sequential()\n",
    "model.add(LSTM(50,return_sequences=True,input_shape=(100,1)))\n",
    "model.add(LSTM(50,return_sequences=True))\n",
    "model.add(LSTM(50))\n",
    "model.add(Dense(1))\n",
    "model.compile(loss=\"mean_squared_error\",optimizer='adam')"
   ]
  },
  {
   "cell_type": "code",
   "execution_count": 14,
   "id": "9c696621",
   "metadata": {},
   "outputs": [
    {
     "name": "stdout",
     "output_type": "stream",
     "text": [
      "Model: \"sequential\"\n",
      "_________________________________________________________________\n",
      " Layer (type)                Output Shape              Param #   \n",
      "=================================================================\n",
      " lstm (LSTM)                 (None, 100, 50)           10400     \n",
      "                                                                 \n",
      " lstm_1 (LSTM)               (None, 100, 50)           20200     \n",
      "                                                                 \n",
      " lstm_2 (LSTM)               (None, 50)                20200     \n",
      "                                                                 \n",
      " dense (Dense)               (None, 1)                 51        \n",
      "                                                                 \n",
      "=================================================================\n",
      "Total params: 50,851\n",
      "Trainable params: 50,851\n",
      "Non-trainable params: 0\n",
      "_________________________________________________________________\n"
     ]
    }
   ],
   "source": [
    "model.summary()"
   ]
  },
  {
   "cell_type": "code",
   "execution_count": 15,
   "id": "3214b670",
   "metadata": {},
   "outputs": [
    {
     "name": "stdout",
     "output_type": "stream",
     "text": [
      "Epoch 1/50\n",
      "31/31 [==============================] - 6s 116ms/step - loss: 0.0084 - val_loss: 0.0154\n",
      "Epoch 2/50\n",
      "31/31 [==============================] - 3s 81ms/step - loss: 0.0015 - val_loss: 0.0040\n",
      "Epoch 3/50\n",
      "31/31 [==============================] - 3s 83ms/step - loss: 0.0012 - val_loss: 0.0032\n",
      "Epoch 4/50\n",
      "31/31 [==============================] - 3s 81ms/step - loss: 0.0011 - val_loss: 0.0028\n",
      "Epoch 5/50\n",
      "31/31 [==============================] - 3s 82ms/step - loss: 9.8852e-04 - val_loss: 0.0024\n",
      "Epoch 6/50\n",
      "31/31 [==============================] - 3s 82ms/step - loss: 9.3513e-04 - val_loss: 0.0029\n",
      "Epoch 7/50\n",
      "31/31 [==============================] - 3s 82ms/step - loss: 9.4022e-04 - val_loss: 0.0022\n",
      "Epoch 8/50\n",
      "31/31 [==============================] - 3s 81ms/step - loss: 8.7491e-04 - val_loss: 0.0022\n",
      "Epoch 9/50\n",
      "31/31 [==============================] - 3s 83ms/step - loss: 8.0370e-04 - val_loss: 0.0022\n",
      "Epoch 10/50\n",
      "31/31 [==============================] - 3s 82ms/step - loss: 8.1108e-04 - val_loss: 0.0018\n",
      "Epoch 11/50\n",
      "31/31 [==============================] - 3s 81ms/step - loss: 7.5551e-04 - val_loss: 0.0019\n",
      "Epoch 12/50\n",
      "31/31 [==============================] - 3s 81ms/step - loss: 7.4292e-04 - val_loss: 0.0021\n",
      "Epoch 13/50\n",
      "31/31 [==============================] - 3s 83ms/step - loss: 7.0942e-04 - val_loss: 0.0015\n",
      "Epoch 14/50\n",
      "31/31 [==============================] - 3s 84ms/step - loss: 6.7785e-04 - val_loss: 0.0015\n",
      "Epoch 15/50\n",
      "31/31 [==============================] - 3s 83ms/step - loss: 6.6208e-04 - val_loss: 0.0015\n",
      "Epoch 16/50\n",
      "31/31 [==============================] - 3s 82ms/step - loss: 6.4537e-04 - val_loss: 0.0017\n",
      "Epoch 17/50\n",
      "31/31 [==============================] - 3s 84ms/step - loss: 6.8482e-04 - val_loss: 0.0012\n",
      "Epoch 18/50\n",
      "31/31 [==============================] - 3s 81ms/step - loss: 6.1189e-04 - val_loss: 0.0012\n",
      "Epoch 19/50\n",
      "31/31 [==============================] - 3s 82ms/step - loss: 6.3922e-04 - val_loss: 0.0012\n",
      "Epoch 20/50\n",
      "31/31 [==============================] - 3s 82ms/step - loss: 5.7058e-04 - val_loss: 0.0011\n",
      "Epoch 21/50\n",
      "31/31 [==============================] - 3s 81ms/step - loss: 5.5064e-04 - val_loss: 0.0011\n",
      "Epoch 22/50\n",
      "31/31 [==============================] - 3s 81ms/step - loss: 5.2141e-04 - val_loss: 0.0011\n",
      "Epoch 23/50\n",
      "31/31 [==============================] - 3s 81ms/step - loss: 5.3676e-04 - val_loss: 0.0010\n",
      "Epoch 24/50\n",
      "31/31 [==============================] - 3s 82ms/step - loss: 5.7231e-04 - val_loss: 0.0022\n",
      "Epoch 25/50\n",
      "31/31 [==============================] - 3s 82ms/step - loss: 5.0329e-04 - val_loss: 8.5033e-04\n",
      "Epoch 26/50\n",
      "31/31 [==============================] - 3s 82ms/step - loss: 5.2699e-04 - val_loss: 0.0024\n",
      "Epoch 27/50\n",
      "31/31 [==============================] - 3s 81ms/step - loss: 4.7529e-04 - val_loss: 0.0012\n",
      "Epoch 28/50\n",
      "31/31 [==============================] - 3s 82ms/step - loss: 4.3144e-04 - val_loss: 7.5585e-04\n",
      "Epoch 29/50\n",
      "31/31 [==============================] - 3s 82ms/step - loss: 5.4029e-04 - val_loss: 0.0012\n",
      "Epoch 30/50\n",
      "31/31 [==============================] - 3s 82ms/step - loss: 4.2454e-04 - val_loss: 0.0014\n",
      "Epoch 31/50\n",
      "31/31 [==============================] - 3s 81ms/step - loss: 4.1673e-04 - val_loss: 0.0012\n",
      "Epoch 32/50\n",
      "31/31 [==============================] - 3s 82ms/step - loss: 4.0696e-04 - val_loss: 0.0012\n",
      "Epoch 33/50\n",
      "31/31 [==============================] - 3s 82ms/step - loss: 3.8096e-04 - val_loss: 7.5430e-04\n",
      "Epoch 34/50\n",
      "31/31 [==============================] - 3s 82ms/step - loss: 3.5607e-04 - val_loss: 7.1232e-04\n",
      "Epoch 35/50\n",
      "31/31 [==============================] - 3s 82ms/step - loss: 3.4372e-04 - val_loss: 7.9084e-04\n",
      "Epoch 36/50\n",
      "31/31 [==============================] - 3s 84ms/step - loss: 3.3766e-04 - val_loss: 5.9519e-04\n",
      "Epoch 37/50\n",
      "31/31 [==============================] - 3s 82ms/step - loss: 3.4198e-04 - val_loss: 5.9393e-04\n",
      "Epoch 38/50\n",
      "31/31 [==============================] - 3s 81ms/step - loss: 3.2186e-04 - val_loss: 5.4795e-04\n",
      "Epoch 39/50\n",
      "31/31 [==============================] - 3s 81ms/step - loss: 2.8783e-04 - val_loss: 6.6892e-04\n",
      "Epoch 40/50\n",
      "31/31 [==============================] - 3s 81ms/step - loss: 3.1679e-04 - val_loss: 0.0011\n",
      "Epoch 41/50\n",
      "31/31 [==============================] - 3s 82ms/step - loss: 2.7036e-04 - val_loss: 0.0010\n",
      "Epoch 42/50\n",
      "31/31 [==============================] - 3s 83ms/step - loss: 2.5873e-04 - val_loss: 6.3585e-04\n",
      "Epoch 43/50\n",
      "31/31 [==============================] - 3s 82ms/step - loss: 2.8075e-04 - val_loss: 5.2136e-04\n",
      "Epoch 44/50\n",
      "31/31 [==============================] - 3s 82ms/step - loss: 2.5005e-04 - val_loss: 6.2454e-04\n",
      "Epoch 45/50\n",
      "31/31 [==============================] - 3s 82ms/step - loss: 3.1857e-04 - val_loss: 5.6616e-04\n",
      "Epoch 46/50\n",
      "31/31 [==============================] - 3s 82ms/step - loss: 2.5849e-04 - val_loss: 4.8626e-04\n",
      "Epoch 47/50\n",
      "31/31 [==============================] - 3s 82ms/step - loss: 2.8237e-04 - val_loss: 9.2851e-04\n",
      "Epoch 48/50\n",
      "31/31 [==============================] - 3s 82ms/step - loss: 2.3172e-04 - val_loss: 4.6047e-04\n",
      "Epoch 49/50\n",
      "31/31 [==============================] - 3s 82ms/step - loss: 2.3988e-04 - val_loss: 9.3721e-04\n",
      "Epoch 50/50\n",
      "31/31 [==============================] - 3s 83ms/step - loss: 2.1531e-04 - val_loss: 7.2308e-04\n"
     ]
    },
    {
     "data": {
      "text/plain": [
       "<keras.callbacks.History at 0x2b8e93f5ee0>"
      ]
     },
     "execution_count": 15,
     "metadata": {},
     "output_type": "execute_result"
    }
   ],
   "source": [
    "model.fit(x_train,y_train,validation_data=(x_test,y_test),epochs=50,batch_size=64,verbose=1)"
   ]
  },
  {
   "cell_type": "code",
   "execution_count": 16,
   "id": "f10ac84c",
   "metadata": {},
   "outputs": [],
   "source": [
    "model.save('new_model.h5')"
   ]
  },
  {
   "cell_type": "code",
   "execution_count": 2,
   "id": "d98e55f1",
   "metadata": {},
   "outputs": [],
   "source": [
    "import tensorflow as tf\n"
   ]
  },
  {
   "cell_type": "code",
   "execution_count": 3,
   "id": "899c569f",
   "metadata": {},
   "outputs": [
    {
     "ename": "NameError",
     "evalue": "name 'model' is not defined",
     "output_type": "error",
     "traceback": [
      "\u001b[1;31m---------------------------------------------------------------------------\u001b[0m",
      "\u001b[1;31mNameError\u001b[0m                                 Traceback (most recent call last)",
      "\u001b[1;32m~\\AppData\\Local\\Temp/ipykernel_37948/1251525534.py\u001b[0m in \u001b[0;36m<module>\u001b[1;34m\u001b[0m\n\u001b[1;32m----> 1\u001b[1;33m \u001b[0mtrain_predict\u001b[0m \u001b[1;33m=\u001b[0m \u001b[0mmodel\u001b[0m\u001b[1;33m.\u001b[0m\u001b[0mpredict\u001b[0m\u001b[1;33m(\u001b[0m\u001b[0mx_train\u001b[0m\u001b[1;33m)\u001b[0m\u001b[1;33m\u001b[0m\u001b[1;33m\u001b[0m\u001b[0m\n\u001b[0m\u001b[0;32m      2\u001b[0m \u001b[0mtest_predict\u001b[0m \u001b[1;33m=\u001b[0m \u001b[0mmodel\u001b[0m\u001b[1;33m.\u001b[0m\u001b[0mpredict\u001b[0m\u001b[1;33m(\u001b[0m\u001b[0mx_test\u001b[0m\u001b[1;33m)\u001b[0m\u001b[1;33m\u001b[0m\u001b[1;33m\u001b[0m\u001b[0m\n",
      "\u001b[1;31mNameError\u001b[0m: name 'model' is not defined"
     ]
    }
   ],
   "source": [
    "train_predict = model.predict(x_train)\n",
    "test_predict = model.predict(x_test)"
   ]
  },
  {
   "cell_type": "code",
   "execution_count": null,
   "id": "1ad7e453",
   "metadata": {},
   "outputs": [],
   "source": [
    "train_predict = scaler.inverse_transform(train_predict)\n",
    "test_predict = scaler.inverse_transform(test_predict)"
   ]
  },
  {
   "cell_type": "code",
   "execution_count": null,
   "id": "75102588",
   "metadata": {},
   "outputs": [],
   "source": [
    "import math\n",
    "from sklearn.metrics import mean_squared_error\n",
    "math.sqrt(mean_squared_error(y_train,train_predict))"
   ]
  },
  {
   "cell_type": "code",
   "execution_count": null,
   "id": "6cac9ce1",
   "metadata": {},
   "outputs": [],
   "source": [
    "math.sqrt(mean_squared_error(y_test,test_predict))"
   ]
  },
  {
   "cell_type": "code",
   "execution_count": null,
   "id": "89196831",
   "metadata": {},
   "outputs": [],
   "source": [
    "loopback = 100\n",
    "trainPredictPlot = numpy.empty_like(df1)\n",
    "trainPredictPlot[:,:] = np.nan\n",
    "trainPredictPlot[loopback:len(train_predict)+loopback,:] = train_predict\n",
    "testPredictPlot = numpy.empty_like(df1)\n",
    "testPredictPlot[:,:] = numpy.nan\n",
    "testPredictPlot[len(train_predict)+(loopback*2)+1:len(df1)-1,:] = test_predict\n",
    "plt.plot(scaler.inverse_transform(df1))\n",
    "plt.plot(trainPredictPlot)\n",
    "plt.plot(testPredictPlot)\n",
    "plt.show()"
   ]
  },
  {
   "cell_type": "code",
   "execution_count": null,
   "id": "72fa434c",
   "metadata": {},
   "outputs": [],
   "source": [
    "x_input=test_data[len(test_data)-100:].reshape(1,-1)\n",
    "temp_input=list(x_input)\n",
    "temp_input=temp_input[0].tolist()"
   ]
  },
  {
   "cell_type": "code",
   "execution_count": null,
   "id": "bb0b25d0",
   "metadata": {},
   "outputs": [],
   "source": [
    "from numpy import array\n",
    "lst_output=[]\n",
    "n_steps=100\n",
    "i=0\n",
    "npt = int(input(\"How many days of data to predict?\"))\n",
    "while(i<npt):\n",
    "    \n",
    "    if(len(temp_input)>100):\n",
    "        #print(temp_input)\n",
    "        x_input=np.array(temp_input[1:])\n",
    "        print(\"{} day input {}\".format(i,x_input))\n",
    "        x_input=x_input.reshape(1,-1)\n",
    "        x_input = x_input.reshape((1, n_steps, 1))\n",
    "        #print(x_input)\n",
    "        yhat = model.predict(x_input, verbose=0)\n",
    "        print(\"{} day output {}\".format(i,yhat))\n",
    "        temp_input.extend(yhat[0].tolist())\n",
    "        temp_input=temp_input[1:]\n",
    "        #print(temp_input)\n",
    "        lst_output.extend(yhat.tolist())\n",
    "        i=i+1\n",
    "    else:\n",
    "        x_input = x_input.reshape((1, n_steps,1))\n",
    "        yhat = model.predict(x_input, verbose=0)\n",
    "        print(yhat[0])\n",
    "        temp_input.extend(yhat[0].tolist())\n",
    "        print(len(temp_input))\n",
    "        lst_output.extend(yhat.tolist())\n",
    "        i=i+1\n",
    "    \n",
    "\n",
    "print(lst_output)"
   ]
  },
  {
   "cell_type": "code",
   "execution_count": null,
   "id": "89b92855",
   "metadata": {},
   "outputs": [],
   "source": [
    "day_new = np.arange(1,101)\n",
    "day_pred = np.arange(101,101+npt)"
   ]
  },
  {
   "cell_type": "code",
   "execution_count": null,
   "id": "37e19877",
   "metadata": {},
   "outputs": [],
   "source": [
    "import matplotlib.pyplot as plt"
   ]
  },
  {
   "cell_type": "code",
   "execution_count": null,
   "id": "274a321d",
   "metadata": {},
   "outputs": [],
   "source": [
    "df3 = df1.tolist()\n",
    "df3.extend(lst_output)"
   ]
  },
  {
   "cell_type": "code",
   "execution_count": null,
   "id": "af23f6f4",
   "metadata": {},
   "outputs": [],
   "source": [
    "plt.plot(day_new,scaler.inverse_transform(df1[len(df1)-100:]))\n",
    "plt.plot(day_pred,scaler.inverse_transform(lst_output))"
   ]
  },
  {
   "cell_type": "code",
   "execution_count": null,
   "id": "a98032ed",
   "metadata": {},
   "outputs": [],
   "source": [
    "df3 = df1.tolist()\n",
    "df3.extend(lst_output)\n",
    "plt.plot(df3[1200:])"
   ]
  },
  {
   "cell_type": "code",
   "execution_count": 2,
   "id": "cf8c064c",
   "metadata": {},
   "outputs": [
    {
     "name": "stdout",
     "output_type": "stream",
     "text": [
      "Collecting yfinance\n",
      "  Downloading yfinance-0.1.70-py2.py3-none-any.whl (26 kB)\n",
      "Collecting multitasking>=0.0.7\n",
      "  Downloading multitasking-0.0.10.tar.gz (8.2 kB)\n",
      "  Preparing metadata (setup.py): started\n",
      "  Preparing metadata (setup.py): finished with status 'done'\n",
      "Requirement already satisfied: lxml>=4.5.1 in c:\\users\\vibod\\anaconda3\\lib\\site-packages (from yfinance) (4.6.3)\n",
      "Requirement already satisfied: pandas>=0.24.0 in c:\\users\\vibod\\anaconda3\\lib\\site-packages (from yfinance) (1.3.4)\n",
      "Requirement already satisfied: numpy>=1.15 in c:\\users\\vibod\\anaconda3\\lib\\site-packages (from yfinance) (1.20.3)\n",
      "Requirement already satisfied: requests>=2.26 in c:\\users\\vibod\\anaconda3\\lib\\site-packages (from yfinance) (2.26.0)\n",
      "Requirement already satisfied: pytz>=2017.3 in c:\\users\\vibod\\anaconda3\\lib\\site-packages (from pandas>=0.24.0->yfinance) (2021.3)\n",
      "Requirement already satisfied: python-dateutil>=2.7.3 in c:\\users\\vibod\\anaconda3\\lib\\site-packages (from pandas>=0.24.0->yfinance) (2.8.2)\n",
      "Requirement already satisfied: idna<4,>=2.5 in c:\\users\\vibod\\anaconda3\\lib\\site-packages (from requests>=2.26->yfinance) (3.2)\n",
      "Requirement already satisfied: certifi>=2017.4.17 in c:\\users\\vibod\\anaconda3\\lib\\site-packages (from requests>=2.26->yfinance) (2021.10.8)\n",
      "Requirement already satisfied: urllib3<1.27,>=1.21.1 in c:\\users\\vibod\\anaconda3\\lib\\site-packages (from requests>=2.26->yfinance) (1.26.7)\n",
      "Requirement already satisfied: charset-normalizer~=2.0.0 in c:\\users\\vibod\\anaconda3\\lib\\site-packages (from requests>=2.26->yfinance) (2.0.4)\n",
      "Requirement already satisfied: six>=1.5 in c:\\users\\vibod\\anaconda3\\lib\\site-packages (from python-dateutil>=2.7.3->pandas>=0.24.0->yfinance) (1.16.0)\n",
      "Building wheels for collected packages: multitasking\n",
      "  Building wheel for multitasking (setup.py): started\n",
      "  Building wheel for multitasking (setup.py): finished with status 'done'\n",
      "  Created wheel for multitasking: filename=multitasking-0.0.10-py3-none-any.whl size=8500 sha256=b0a0d76796b84888d0044409c0549f276b108a4cede15354e177056e490b8384\n",
      "  Stored in directory: c:\\users\\vibod\\appdata\\local\\pip\\cache\\wheels\\f2\\b5\\2c\\59ba95dcf854e542944c75fe3da584e4e3833b319735a0546c\n",
      "Successfully built multitasking\n",
      "Installing collected packages: multitasking, yfinance\n",
      "Successfully installed multitasking-0.0.10 yfinance-0.1.70\n"
     ]
    },
    {
     "name": "stderr",
     "output_type": "stream",
     "text": [
      "WARNING: You are using pip version 22.0.3; however, version 22.0.4 is available.\n",
      "You should consider upgrading via the 'C:\\Users\\vibod\\anaconda3\\python.exe -m pip install --upgrade pip' command.\n"
     ]
    }
   ],
   "source": [
    "!pip install yfinance"
   ]
  },
  {
   "cell_type": "code",
   "execution_count": 46,
   "id": "15649a96",
   "metadata": {},
   "outputs": [
    {
     "data": {
      "text/plain": [
       "'2002-07-01'"
      ]
     },
     "execution_count": 46,
     "metadata": {},
     "output_type": "execute_result"
    }
   ],
   "source": [
    "import yfinance as yf\n",
    "'''stock = yf.Ticker(\"RUCHI.NS\")'''\n",
    "str(yf.Ticker(\"RUCHI.NS\").history(period='max').reset_index()['Date'][0])[:10]"
   ]
  },
  {
   "cell_type": "code",
   "execution_count": 13,
   "id": "6155b0d9",
   "metadata": {},
   "outputs": [
    {
     "data": {
      "text/html": [
       "<div>\n",
       "<style scoped>\n",
       "    .dataframe tbody tr th:only-of-type {\n",
       "        vertical-align: middle;\n",
       "    }\n",
       "\n",
       "    .dataframe tbody tr th {\n",
       "        vertical-align: top;\n",
       "    }\n",
       "\n",
       "    .dataframe thead th {\n",
       "        text-align: right;\n",
       "    }\n",
       "</style>\n",
       "<table border=\"1\" class=\"dataframe\">\n",
       "  <thead>\n",
       "    <tr style=\"text-align: right;\">\n",
       "      <th></th>\n",
       "      <th>Open</th>\n",
       "      <th>High</th>\n",
       "      <th>Low</th>\n",
       "      <th>Close</th>\n",
       "      <th>Volume</th>\n",
       "      <th>Dividends</th>\n",
       "      <th>Stock Splits</th>\n",
       "    </tr>\n",
       "    <tr>\n",
       "      <th>Date</th>\n",
       "      <th></th>\n",
       "      <th></th>\n",
       "      <th></th>\n",
       "      <th></th>\n",
       "      <th></th>\n",
       "      <th></th>\n",
       "      <th></th>\n",
       "    </tr>\n",
       "  </thead>\n",
       "  <tbody>\n",
       "    <tr>\n",
       "      <th>2002-07-01</th>\n",
       "      <td>709.278014</td>\n",
       "      <td>714.597599</td>\n",
       "      <td>691.546064</td>\n",
       "      <td>710.164612</td>\n",
       "      <td>76</td>\n",
       "      <td>0.0</td>\n",
       "      <td>0.0</td>\n",
       "    </tr>\n",
       "    <tr>\n",
       "      <th>2002-07-02</th>\n",
       "      <td>762.473799</td>\n",
       "      <td>781.978943</td>\n",
       "      <td>716.370732</td>\n",
       "      <td>781.978943</td>\n",
       "      <td>210</td>\n",
       "      <td>0.0</td>\n",
       "      <td>0.0</td>\n",
       "    </tr>\n",
       "    <tr>\n",
       "      <th>2002-07-03</th>\n",
       "      <td>798.824434</td>\n",
       "      <td>830.741947</td>\n",
       "      <td>762.473932</td>\n",
       "      <td>767.793518</td>\n",
       "      <td>101</td>\n",
       "      <td>0.0</td>\n",
       "      <td>0.0</td>\n",
       "    </tr>\n",
       "    <tr>\n",
       "      <th>2002-07-04</th>\n",
       "      <td>762.473815</td>\n",
       "      <td>815.669663</td>\n",
       "      <td>755.381035</td>\n",
       "      <td>763.360413</td>\n",
       "      <td>74</td>\n",
       "      <td>0.0</td>\n",
       "      <td>0.0</td>\n",
       "    </tr>\n",
       "    <tr>\n",
       "      <th>2002-07-05</th>\n",
       "      <td>771.339740</td>\n",
       "      <td>789.071688</td>\n",
       "      <td>727.009870</td>\n",
       "      <td>749.174805</td>\n",
       "      <td>50</td>\n",
       "      <td>0.0</td>\n",
       "      <td>0.0</td>\n",
       "    </tr>\n",
       "    <tr>\n",
       "      <th>...</th>\n",
       "      <td>...</td>\n",
       "      <td>...</td>\n",
       "      <td>...</td>\n",
       "      <td>...</td>\n",
       "      <td>...</td>\n",
       "      <td>...</td>\n",
       "      <td>...</td>\n",
       "    </tr>\n",
       "    <tr>\n",
       "      <th>2022-04-07</th>\n",
       "      <td>770.000000</td>\n",
       "      <td>839.900024</td>\n",
       "      <td>770.000000</td>\n",
       "      <td>817.700012</td>\n",
       "      <td>12081878</td>\n",
       "      <td>0.0</td>\n",
       "      <td>0.0</td>\n",
       "    </tr>\n",
       "    <tr>\n",
       "      <th>2022-04-08</th>\n",
       "      <td>855.000000</td>\n",
       "      <td>938.700012</td>\n",
       "      <td>825.750000</td>\n",
       "      <td>923.450012</td>\n",
       "      <td>40371923</td>\n",
       "      <td>0.0</td>\n",
       "      <td>0.0</td>\n",
       "    </tr>\n",
       "    <tr>\n",
       "      <th>2022-04-11</th>\n",
       "      <td>969.000000</td>\n",
       "      <td>999.450012</td>\n",
       "      <td>903.599976</td>\n",
       "      <td>919.200012</td>\n",
       "      <td>21787383</td>\n",
       "      <td>0.0</td>\n",
       "      <td>0.0</td>\n",
       "    </tr>\n",
       "    <tr>\n",
       "      <th>2022-04-12</th>\n",
       "      <td>918.900024</td>\n",
       "      <td>941.000000</td>\n",
       "      <td>880.000000</td>\n",
       "      <td>923.250000</td>\n",
       "      <td>7794760</td>\n",
       "      <td>0.0</td>\n",
       "      <td>0.0</td>\n",
       "    </tr>\n",
       "    <tr>\n",
       "      <th>2022-04-13</th>\n",
       "      <td>934.900024</td>\n",
       "      <td>963.000000</td>\n",
       "      <td>921.099976</td>\n",
       "      <td>952.599976</td>\n",
       "      <td>6469627</td>\n",
       "      <td>0.0</td>\n",
       "      <td>0.0</td>\n",
       "    </tr>\n",
       "  </tbody>\n",
       "</table>\n",
       "<p>4917 rows × 7 columns</p>\n",
       "</div>"
      ],
      "text/plain": [
       "                  Open        High         Low       Close    Volume  \\\n",
       "Date                                                                   \n",
       "2002-07-01  709.278014  714.597599  691.546064  710.164612        76   \n",
       "2002-07-02  762.473799  781.978943  716.370732  781.978943       210   \n",
       "2002-07-03  798.824434  830.741947  762.473932  767.793518       101   \n",
       "2002-07-04  762.473815  815.669663  755.381035  763.360413        74   \n",
       "2002-07-05  771.339740  789.071688  727.009870  749.174805        50   \n",
       "...                ...         ...         ...         ...       ...   \n",
       "2022-04-07  770.000000  839.900024  770.000000  817.700012  12081878   \n",
       "2022-04-08  855.000000  938.700012  825.750000  923.450012  40371923   \n",
       "2022-04-11  969.000000  999.450012  903.599976  919.200012  21787383   \n",
       "2022-04-12  918.900024  941.000000  880.000000  923.250000   7794760   \n",
       "2022-04-13  934.900024  963.000000  921.099976  952.599976   6469627   \n",
       "\n",
       "            Dividends  Stock Splits  \n",
       "Date                                 \n",
       "2002-07-01        0.0           0.0  \n",
       "2002-07-02        0.0           0.0  \n",
       "2002-07-03        0.0           0.0  \n",
       "2002-07-04        0.0           0.0  \n",
       "2002-07-05        0.0           0.0  \n",
       "...               ...           ...  \n",
       "2022-04-07        0.0           0.0  \n",
       "2022-04-08        0.0           0.0  \n",
       "2022-04-11        0.0           0.0  \n",
       "2022-04-12        0.0           0.0  \n",
       "2022-04-13        0.0           0.0  \n",
       "\n",
       "[4917 rows x 7 columns]"
      ]
     },
     "execution_count": 13,
     "metadata": {},
     "output_type": "execute_result"
    }
   ],
   "source": [
    "stock.history(period='max')"
   ]
  },
  {
   "cell_type": "code",
   "execution_count": null,
   "id": "7e9d0b3b",
   "metadata": {},
   "outputs": [],
   "source": []
  }
 ],
 "metadata": {
  "kernelspec": {
   "display_name": "Python 3 (ipykernel)",
   "language": "python",
   "name": "python3"
  },
  "language_info": {
   "codemirror_mode": {
    "name": "ipython",
    "version": 3
   },
   "file_extension": ".py",
   "mimetype": "text/x-python",
   "name": "python",
   "nbconvert_exporter": "python",
   "pygments_lexer": "ipython3",
   "version": "3.9.7"
  }
 },
 "nbformat": 4,
 "nbformat_minor": 5
}
